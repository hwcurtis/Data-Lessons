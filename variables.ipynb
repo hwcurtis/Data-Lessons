{
 "cells": [
  {
   "cell_type": "code",
   "execution_count": 1,
   "metadata": {},
   "outputs": [],
   "source": [
    "x = 22"
   ]
  },
  {
   "cell_type": "code",
   "execution_count": 10,
   "metadata": {},
   "outputs": [
    {
     "name": "stdout",
     "output_type": "stream",
     "text": [
      "cereal\n"
     ]
    }
   ],
   "source": [
    "grocery_item_type= 'banana'\n",
    "grocery_cart = ['orange','apple','cereal']\n",
    "for grocery_item in  grocery_cart:\n",
    "    pass\n",
    "print (grocery_item)"
   ]
  },
  {
   "cell_type": "code",
   "execution_count": 11,
   "metadata": {},
   "outputs": [
    {
     "name": "stdout",
     "output_type": "stream",
     "text": [
      "orange\n",
      "apple\n",
      "cereal\n"
     ]
    }
   ],
   "source": [
    "grocery_cart = [\"orange\",'apple',\"cereal\"]\n",
    "for grocery_item in grocery_cart:\n",
    "    if grocery_item == \"apple\":\n",
    "        pass\n",
    "    print (grocery_item)"
   ]
  },
  {
   "cell_type": "code",
   "execution_count": 12,
   "metadata": {},
   "outputs": [
    {
     "name": "stdout",
     "output_type": "stream",
     "text": [
      "orange\n",
      "apple\n",
      "cereal\n"
     ]
    }
   ],
   "source": [
    "grocery_cart=[\"orange\",'apple','cereal']\n",
    "for index in range (len(grocery_cart)):\n",
    "    print(grocery_cart[index])"
   ]
  },
  {
   "cell_type": "code",
   "execution_count": null,
   "metadata": {},
   "outputs": [],
   "source": [
    "grocery_cart ={'orange','apple','cereal'}"
   ]
  },
  {
   "cell_type": "code",
   "execution_count": null,
   "metadata": {},
   "outputs": [
    {
     "ename": "IndentationError",
     "evalue": "expected an indented block after 'while' statement on line 2 (1005556398.py, line 3)",
     "output_type": "error",
     "traceback": [
      "  \u001b[36mCell\u001b[39m\u001b[36m \u001b[39m\u001b[32mIn[14]\u001b[39m\u001b[32m, line 3\u001b[39m\n\u001b[31m    \u001b[39m\u001b[31mprint (i)\u001b[39m\n    ^\n\u001b[31mIndentationError\u001b[39m\u001b[31m:\u001b[39m expected an indented block after 'while' statement on line 2\n"
     ]
    }
   ],
   "source": [
    "i=0\n",
    "while True:\n",
    "print (i)\n",
    "if i>10:\n",
    "    break"
   ]
  },
  {
   "cell_type": "code",
   "execution_count": null,
   "metadata": {},
   "outputs": [],
   "source": []
  },
  {
   "cell_type": "code",
   "execution_count": null,
   "metadata": {},
   "outputs": [],
   "source": []
  },
  {
   "cell_type": "code",
   "execution_count": 2,
   "metadata": {},
   "outputs": [
    {
     "name": "stdout",
     "output_type": "stream",
     "text": [
      "22\n"
     ]
    }
   ],
   "source": [
    "print (x)\n"
   ]
  },
  {
   "cell_type": "code",
   "execution_count": 3,
   "metadata": {},
   "outputs": [
    {
     "name": "stdout",
     "output_type": "stream",
     "text": [
      "22\n"
     ]
    }
   ],
   "source": [
    "print (x)"
   ]
  },
  {
   "cell_type": "code",
   "execution_count": 4,
   "metadata": {},
   "outputs": [
    {
     "data": {
      "text/plain": [
       "int"
      ]
     },
     "execution_count": 4,
     "metadata": {},
     "output_type": "execute_result"
    }
   ],
   "source": [
    "type(x)"
   ]
  },
  {
   "cell_type": "code",
   "execution_count": 5,
   "metadata": {},
   "outputs": [
    {
     "name": "stdout",
     "output_type": "stream",
     "text": [
      "mint choclate chip\n"
     ]
    }
   ],
   "source": [
    "y= \"mint choclate chip\"\n",
    "print (y)"
   ]
  },
  {
   "cell_type": "code",
   "execution_count": 6,
   "metadata": {},
   "outputs": [
    {
     "data": {
      "text/plain": [
       "str"
      ]
     },
     "execution_count": 6,
     "metadata": {},
     "output_type": "execute_result"
    }
   ],
   "source": [
    "type (y)"
   ]
  },
  {
   "cell_type": "code",
   "execution_count": 7,
   "metadata": {},
   "outputs": [
    {
     "name": "stdout",
     "output_type": "stream",
     "text": [
      "mint choclate chip\n"
     ]
    }
   ],
   "source": [
    "\n",
    "y = 'chocolate'\n",
    "y=\"mint choclate chip\"\n",
    "print (y)"
   ]
  },
  {
   "cell_type": "code",
   "execution_count": 8,
   "metadata": {},
   "outputs": [
    {
     "name": "stdout",
     "output_type": "stream",
     "text": [
      "chocolate\n",
      "vanilla\n",
      "rocky road\n"
     ]
    }
   ],
   "source": [
    "x,y,z = 'chocolate','vanilla','rocky road'\n",
    "print(x)\n",
    "print (y)\n",
    "print(z)"
   ]
  },
  {
   "cell_type": "code",
   "execution_count": 9,
   "metadata": {},
   "outputs": [
    {
     "name": "stdout",
     "output_type": "stream",
     "text": [
      "Root Beer Float\n",
      "Root Beer Float\n",
      "Root Beer Float\n"
     ]
    }
   ],
   "source": [
    "x=y=z = \"Root Beer Float\"\n",
    "print (x)\n",
    "print(y)\n",
    "print (z)"
   ]
  },
  {
   "cell_type": "code",
   "execution_count": 10,
   "metadata": {},
   "outputs": [
    {
     "name": "stdout",
     "output_type": "stream",
     "text": [
      "chocolate\n",
      "vanilla\n",
      "rocky road\n"
     ]
    }
   ],
   "source": [
    "ice_cream = ['chocolate','vanilla','rocky road']\n",
    "x,y,z = ice_cream\n",
    "print (x)\n",
    "print(y)\n",
    "print (z)"
   ]
  },
  {
   "cell_type": "code",
   "execution_count": 11,
   "metadata": {},
   "outputs": [
    {
     "name": "stdout",
     "output_type": "stream",
     "text": [
      "ice cream is my favorite.\n"
     ]
    }
   ],
   "source": [
    "x = \"ice cream is my favorite\" \".\"\n",
    "print (x)\n"
   ]
  },
  {
   "cell_type": "code",
   "execution_count": 1,
   "metadata": {},
   "outputs": [
    {
     "name": "stdout",
     "output_type": "stream",
     "text": [
      "10 Dollars \n"
     ]
    }
   ],
   "source": [
    "y= 10\n",
    "print(str(y)+ \" Dollars \")"
   ]
  }
 ],
 "metadata": {
  "kernelspec": {
   "display_name": "Python 3",
   "language": "python",
   "name": "python3"
  },
  "language_info": {
   "codemirror_mode": {
    "name": "ipython",
    "version": 3
   },
   "file_extension": ".py",
   "mimetype": "text/x-python",
   "name": "python",
   "nbconvert_exporter": "python",
   "pygments_lexer": "ipython3",
   "version": "3.13.2"
  }
 },
 "nbformat": 4,
 "nbformat_minor": 2
}
