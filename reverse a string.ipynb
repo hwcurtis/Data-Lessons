{
 "cells": [
  {
   "cell_type": "code",
   "execution_count": null,
   "metadata": {},
   "outputs": [],
   "source": [
    "reverse a string  \"hello\"\n",
    "def reverse_string(s:str)-> str:\n",
    "    return s[::-1] = olleh"
   ]
  }
 ],
 "metadata": {
  "language_info": {
   "name": "python"
  }
 },
 "nbformat": 4,
 "nbformat_minor": 2
}
