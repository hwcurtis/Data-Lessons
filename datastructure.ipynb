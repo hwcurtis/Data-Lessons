{
 "cells": [
  {
   "cell_type": "code",
   "execution_count": 3,
   "metadata": {},
   "outputs": [
    {
     "name": "stdout",
     "output_type": "stream",
     "text": [
      "g\n"
     ]
    }
   ],
   "source": [
    "#indexing\n",
    "x = 'frog'\n",
    "print (x[3])"
   ]
  },
  {
   "cell_type": "code",
   "execution_count": 4,
   "metadata": {},
   "outputs": [
    {
     "name": "stdout",
     "output_type": "stream",
     "text": [
      "horseshoe\n"
     ]
    }
   ],
   "source": [
    "#adding/concatening\n",
    "x='horse'+'shoe'\n",
    "print(x)"
   ]
  },
  {
   "cell_type": "code",
   "execution_count": 1,
   "metadata": {},
   "outputs": [
    {
     "name": "stdout",
     "output_type": "stream",
     "text": [
      "bugbugbug\n"
     ]
    }
   ],
   "source": [
    "# multiplying\n",
    "x='bug'*3\n",
    "print (x)"
   ]
  },
  {
   "cell_type": "code",
   "execution_count": 2,
   "metadata": {},
   "outputs": [
    {
     "name": "stdout",
     "output_type": "stream",
     "text": [
      "True\n"
     ]
    }
   ],
   "source": [
    "#checking an itam is in or not in sequence \n",
    "x = 'bug'\n",
    "print ('u' in x)"
   ]
  },
  {
   "cell_type": "code",
   "execution_count": 8,
   "metadata": {},
   "outputs": [],
   "source": [
    "#list comprehension for 4 loop\n",
    "x=[m for m in range(8)]\n",
    "resultinglist: [0,1,2,3,4,5,6,7]\n",
    "x = [z**2 for z in range (10) if z > 4]\n",
    "resultinglist: [25,36,49,64,81]"
   ]
  },
  {
   "cell_type": "code",
   "execution_count": null,
   "metadata": {},
   "outputs": [],
   "source": [
    "#insert item at given index\n",
    "x=[5,3,8,6] \n",
    "x.insert(1,7)       = [5,7,3,8,6] (the second # being 1)\n",
    "    x.insert(1,['a',\"m\"]) == [5 ,['a','m',],7,3,8,6   letters move the numbers to the right cause position 1 is for a and m"
   ]
  }
 ],
 "metadata": {
  "kernelspec": {
   "display_name": "Python 3",
   "language": "python",
   "name": "python3"
  },
  "language_info": {
   "codemirror_mode": {
    "name": "ipython",
    "version": 3
   },
   "file_extension": ".py",
   "mimetype": "text/x-python",
   "name": "python",
   "nbconvert_exporter": "python",
   "pygments_lexer": "ipython3",
   "version": "3.13.2"
  }
 },
 "nbformat": 4,
 "nbformat_minor": 2
}
