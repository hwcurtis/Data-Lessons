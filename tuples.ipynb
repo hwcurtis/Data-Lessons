{
 "cells": [
  {
   "cell_type": "code",
   "execution_count": null,
   "metadata": {},
   "outputs": [],
   "source": [
    "#constant set of values not abel to change \n",
    "x = (1,2,3,) #have to have a comma\n",
    "x = 1,2,3  #parentesis are optional comma tells its a tuple\n",
    "x = tuple(list1) # tuple from list"
   ]
  },
  {
   "cell_type": "code",
   "execution_count": null,
   "metadata": {},
   "outputs": [],
   "source": [
    "x = ([1,2] 3,)  #= 2-item tuple:  list and int 3\n",
    "del(x[0] [1])  # ([1], 3)"
   ]
  },
  {
   "cell_type": "code",
   "execution_count": null,
   "metadata": {},
   "outputs": [],
   "source": []
  }
 ],
 "metadata": {
  "language_info": {
   "name": "python"
  }
 },
 "nbformat": 4,
 "nbformat_minor": 2
}
