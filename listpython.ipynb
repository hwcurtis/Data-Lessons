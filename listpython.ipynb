{
 "cells": [
  {
   "cell_type": "code",
   "execution_count": 4,
   "metadata": {},
   "outputs": [
    {
     "name": "stdout",
     "output_type": "stream",
     "text": [
      "a\n",
      "e\n",
      "e\n"
     ]
    }
   ],
   "source": [
    "lst = [\"a\",\"b\",\"c\",\"d\",\"e\"]\n",
    "#index: 0   1   2   3   4\n",
    "#index: -5  -4  -3  -2  -1\n",
    "print(lst[-5])\n",
    "print (lst[-1])\n",
    "print(lst[len(lst)-1])"
   ]
  },
  {
   "cell_type": "code",
   "execution_count": 12,
   "metadata": {},
   "outputs": [
    {
     "name": "stdout",
     "output_type": "stream",
     "text": [
      "e ['a', 'b', 'c', 'd']\n",
      "['a', 'b', 'c', 'd']\n"
     ]
    }
   ],
   "source": [
    "lst = [\"a\",\"b\",\"c\",\"d\",\"e\"]\n",
    "\n",
    "\n",
    "remove = lst.pop(-1)\n",
    "print(remove,lst)\n",
    "print(lst)"
   ]
  },
  {
   "cell_type": "code",
   "execution_count": 14,
   "metadata": {},
   "outputs": [
    {
     "name": "stdout",
     "output_type": "stream",
     "text": [
      "['a', 'b', 100, 'c', 'd', 'e']\n"
     ]
    }
   ],
   "source": [
    "lst = [\"a\",\"b\",\"c\",\"d\",\"e\"]\n",
    "lst.insert(2, 100)\n",
    "print (lst)"
   ]
  },
  {
   "cell_type": "code",
   "execution_count": 16,
   "metadata": {},
   "outputs": [
    {
     "name": "stdout",
     "output_type": "stream",
     "text": [
      "['a', 'b', 'c', 'd', 'e', 1, 2]\n"
     ]
    }
   ],
   "source": [
    "lst = [\"a\",\"b\",\"c\",\"d\",\"e\",]\n",
    "lst.extend([1,2])\n",
    "print (lst)"
   ]
  },
  {
   "cell_type": "code",
   "execution_count": 18,
   "metadata": {},
   "outputs": [
    {
     "name": "stdout",
     "output_type": "stream",
     "text": [
      "[100, 'b', 'c', 'd', 'e'] [100, 'b', 'c', 'd', 'e']\n"
     ]
    }
   ],
   "source": [
    "lst = [\"a\",\"b\",\"c\",\"d\",\"e\",]\n",
    "lst2 = lst\n",
    "lst[0] = 100\n",
    "print(lst,lst2)"
   ]
  },
  {
   "cell_type": "code",
   "execution_count": 21,
   "metadata": {},
   "outputs": [],
   "source": [
    "def fun(lst):\n",
    "    lst[0]=100\n",
    "    \n",
    "    new_list=[1,2,3,]\n",
    "    func(new_lst)\n",
    "    print(new_lst)"
   ]
  },
  {
   "cell_type": "code",
   "execution_count": null,
   "metadata": {},
   "outputs": [
    {
     "name": "stdout",
     "output_type": "stream",
     "text": [
      "[1, 3, 5, True, -23, 'a', 3.234, 'abc']\n"
     ]
    }
   ],
   "source": [
    "my_mixed_list = [1,3,5,True,-23, \"a\",3.234,\"abc\"] \n",
    "print (my_mixed_list)"
   ]
  },
  {
   "cell_type": "code",
   "execution_count": null,
   "metadata": {},
   "outputs": [
    {
     "name": "stdout",
     "output_type": "stream",
     "text": [
      "[0, 1, 1, 2, 3, 5, 8, 13, 21]\n"
     ]
    }
   ],
   "source": [
    "my_number_list=[0,1,1,2,3,5,8,13,21]\n",
    "print (my_number_list )"
   ]
  },
  {
   "cell_type": "code",
   "execution_count": null,
   "metadata": {},
   "outputs": [
    {
     "name": "stdout",
     "output_type": "stream",
     "text": [
      "['Hello', 'open', 'SAP']\n"
     ]
    }
   ],
   "source": [
    "my_string_list =[\"Hello\",\"open\", \"SAP\"]\n",
    "my_float_list = [3.14,-6.6,-34]\n",
    "my_boolean_list =[True,False,False,True]\n",
    "print(my_string_list)"
   ]
  },
  {
   "cell_type": "code",
   "execution_count": null,
   "metadata": {},
   "outputs": [
    {
     "name": "stdout",
     "output_type": "stream",
     "text": [
      "[1, 3, 5, True, -23, 'a', 3.234, 'abc']\n"
     ]
    }
   ],
   "source": [
    "my_mixed_list = [1,3,5,True,-23,\"a\", 3.234,\"abc\"]\n",
    "print(my_mixed_list)"
   ]
  },
  {
   "cell_type": "code",
   "execution_count": null,
   "metadata": {},
   "outputs": [
    {
     "name": "stdout",
     "output_type": "stream",
     "text": [
      "[1, 2, 3, 4, 5, 6]\n",
      "[1, 2, 3, 1, 2, 3, 1, 2, 3]\n"
     ]
    }
   ],
   "source": [
    "first_list =[1,2,3]\n",
    "second_list= [4,5,6]\n",
    "new_list = first_list+second_list\n",
    "print (new_list)\n",
    "print (3*first_list)"
   ]
  },
  {
   "cell_type": "code",
   "execution_count": 3,
   "metadata": {},
   "outputs": [
    {
     "name": "stdout",
     "output_type": "stream",
     "text": [
      "The list contains the number\n",
      "The list does not contain the number\n"
     ]
    }
   ],
   "source": [
    "prime_numbers = [2,3,5,7,11,13,17,19,23,29,31,37,41,43,47]\n",
    "my_number = int(input(\"Please enter a number: 11\"))\n",
    "\n",
    "if my_number in prime_numbers:\n",
    "    print (\"The list contains the number\")\n",
    "    print (\"The list does not contain the number\")\n",
    "    "
   ]
  },
  {
   "cell_type": "code",
   "execution_count": null,
   "metadata": {},
   "outputs": [],
   "source": []
  }
 ],
 "metadata": {
  "kernelspec": {
   "display_name": "Python 3",
   "language": "python",
   "name": "python3"
  },
  "language_info": {
   "codemirror_mode": {
    "name": "ipython",
    "version": 3
   },
   "file_extension": ".py",
   "mimetype": "text/x-python",
   "name": "python",
   "nbconvert_exporter": "python",
   "pygments_lexer": "ipython3",
   "version": "3.13.2"
  }
 },
 "nbformat": 4,
 "nbformat_minor": 2
}
